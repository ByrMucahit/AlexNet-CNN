{
 "cells": [
  {
   "cell_type": "markdown",
   "id": "8d6de250-d785-4379-affc-f27d97994391",
   "metadata": {},
   "source": [
    "# Face Detection using CNN"
   ]
  },
  {
   "cell_type": "markdown",
   "id": "4aa5194e-21b2-4193-a0df-a7fd00a8fbb4",
   "metadata": {},
   "source": [
    "## 1. Tools And Libraries"
   ]
  },
  {
   "cell_type": "code",
   "execution_count": 12,
   "id": "172ab4f8-ae99-4d3c-a0f8-87fb88083d8f",
   "metadata": {},
   "outputs": [],
   "source": [
    "import tensorflow as tf\n",
    "from tensorflow import keras\n",
    "import matplotlib.pyplot as plt\n",
    "import os\n",
    "import time"
   ]
  },
  {
   "cell_type": "markdown",
   "id": "7cc67b87-ebf6-43aa-9df5-985df77533f7",
   "metadata": {},
   "source": [
    "## 2. Dataset\n",
    "\n",
    "The CIFAR-10 dataset contains 60,000 colour images, each with dimension 32x32px. The content of images within the dataset is sampled from 10 classes."
   ]
  },
  {
   "cell_type": "code",
   "execution_count": 6,
   "id": "f93c81ee-4fc7-41eb-ad6d-c8d2ac215368",
   "metadata": {},
   "outputs": [
    {
     "name": "stdout",
     "output_type": "stream",
     "text": [
      "Downloading data from https://www.cs.toronto.edu/~kriz/cifar-10-python.tar.gz\n",
      "170500096/170498071 [==============================] - 73s 0us/step\n",
      "170508288/170498071 [==============================] - 73s 0us/step\n"
     ]
    }
   ],
   "source": [
    "(train_images, train_labels), (test_images, test_labels) = keras.datasets.cifar10.load_data()"
   ]
  },
  {
   "cell_type": "code",
   "execution_count": 13,
   "id": "f30181f4-07e5-42e2-ac6b-d2ba3ad9b782",
   "metadata": {},
   "outputs": [],
   "source": [
    "CLASS_NAMES= ['airplane', 'automobile', 'bird', 'cat', 'deer', 'dog', 'frog', 'horse', 'ship', 'truck']"
   ]
  },
  {
   "cell_type": "markdown",
   "id": "e6fcebb6-f43c-4efe-a431-f16f5b6840f2",
   "metadata": {},
   "source": [
    "The CIFAR dataset is partitioned into 50,000 training and 10,000 test data by default. The last partition of the data we require is the validation data.\n",
    "The validation data is obtained by taking the last 5000 images within yhe training data."
   ]
  },
  {
   "cell_type": "code",
   "execution_count": 14,
   "id": "0a691f04-89c4-4176-87ba-f05bfbcd209c",
   "metadata": {},
   "outputs": [],
   "source": [
    "validation_images, validation_labels = train_images[:5000], train_labels[:5000]\n",
    "train_images, train_labels= train_images[5000:], train_labels[5000:]"
   ]
  },
  {
   "cell_type": "markdown",
   "id": "f0e7d8f8-d831-4be6-8c57-e451203e4360",
   "metadata": {},
   "source": [
    "We're going to use Tensorflow. Tensorflow provides a suite of functions and operations that enables easy data manipulation and modification through a defined input pipline.\n",
    "To be able to access its methods and procedures, it is required that we transform our dataset into an efficient data representation Tensorflow is familiar with."
   ]
  },
  {
   "cell_type": "code",
   "execution_count": 15,
   "id": "1be21a97-6278-4bbf-b453-d6f0c1ab53d9",
   "metadata": {},
   "outputs": [],
   "source": [
    "train_ds = tf.data.Dataset.from_tensor_slices((train_images, train_labels))\n",
    "test_ds = tf.data.Dataset.from_tensor_slices((test_images, test_labels))\n",
    "validation_ds = tf.data.Dataset.from_tensor_slices((validation_images, validation_labels))"
   ]
  },
  {
   "cell_type": "markdown",
   "id": "4957e80f-b78e-495f-80c4-853616a325c2",
   "metadata": {},
   "source": [
    "# 3. Preprocessing"
   ]
  },
  {
   "cell_type": "markdown",
   "id": "4bd81471-7a30-4cef-b041-12a2710b88c6",
   "metadata": {},
   "source": [
    "CIFAR-10 images have small dimension, which makes visualization of the actula pictures a bit difficult"
   ]
  },
  {
   "cell_type": "code",
   "execution_count": 17,
   "id": "2d248bc5-3104-459c-b522-43c2d637298d",
   "metadata": {},
   "outputs": [
    {
     "data": {
      "image/png": "[encoded data removed]",
      "text/plain": [
       "<Figure size 1440x1440 with 5 Axes>"
      ]
     },
     "metadata": {
      "needs_background": "light"
     },
     "output_type": "display_data"
    }
   ],
   "source": [
    "plt.figure(figsize=(20,20))\n",
    "for i, (image,label) in enumerate(train_ds.take(5)):\n",
    "    ax= plt.subplot(5, 5, i+1)\n",
    "    plt.imshow(image)\n",
    "    plt.title(CLASS_NAMES[label.numpy()[0]])\n",
    "    plt.axis('off')"
   ]
  },
  {
   "cell_type": "markdown",
   "id": "28c49c69-7f3d-4579-b7be-9c52ad51271b",
   "metadata": {},
   "source": [
    "The primary preprocessing transformation that will be imposed on the data presented to the network are:\n",
    "* Normalizing and standardizing the images\n",
    "* Resizing of the images from 32x32 to 227x227. The AlexNet network inputs expects a 227x227"
   ]
  },
  {
   "cell_type": "code",
   "execution_count": 18,
   "id": "da78b70e-361f-431e-9df0-35ed9808892c",
   "metadata": {},
   "outputs": [],
   "source": [
    "def process_images(image, label):\n",
    "    # Normalize images to have a mean of 0 and standard deviation of 1\n",
    "    image = tf.image.per_image_standardization(image)\n",
    "    \n",
    "    # Resize images from 32x32 to 227x227\n",
    "    image = tf.image.resize(image, (227, 227))\n",
    "    return image, label"
   ]
  },
  {
   "cell_type": "markdown",
   "id": "0298dce1-2d3f-4d67-9f83-7ee3f6a39b43",
   "metadata": {},
   "source": [
    "# 4. Data/Input Pipeline"
   ]
  },
  {
   "cell_type": "code",
   "execution_count": 19,
   "id": "19a7a535-40da-4262-9056-aaff9bb0986d",
   "metadata": {},
   "outputs": [
    {
     "name": "stdout",
     "output_type": "stream",
     "text": [
      "Training data sizse: 40000\n",
      "Test data size: 10000\n",
      "Validation data size: 5000\n"
     ]
    }
   ],
   "source": [
    "train_ds_size = tf.data.experimental.cardinality(train_ds).numpy()\n",
    "test_ds_size = tf.data.experimental.cardinality(test_ds).numpy()\n",
    "validation_ds_size = tf.data.experimental.cardinality(validation_ds).numpy()\n",
    "print('Training data sizse:', train_ds_size)\n",
    "print('Test data size:', test_ds_size)\n",
    "print('Validation data size:', validation_ds_size)"
   ]
  },
  {
   "cell_type": "markdown",
   "id": "11008b42-b96f-4b4e-ada7-dadd73c2e1da",
   "metadata": {},
   "source": [
    "For our basic input/data pipeline, we will conduct the primary operations:\n",
    "\n",
    "1. Preprocessing the data within the dataset\n",
    "2. Shuffle the dataset\n",
    "3. Batch data within the dataset"
   ]
  },
  {
   "cell_type": "code",
   "execution_count": 20,
   "id": "d284dc1a-061c-4744-abfa-90c4c81382a2",
   "metadata": {},
   "outputs": [],
   "source": [
    "train_ds = (train_ds\n",
    "                    .map(process_images)\n",
    "                    .shuffle(buffer_size=train_ds_size)\n",
    "                    .batch(batch_size=32, drop_remainder=True))\n",
    "\n",
    "test_ds = (train_ds\n",
    "                .map(process_images)\n",
    "                .shuffle(buffer_size=train_ds_size)\n",
    "                .batch(batch_size=32, drop_remainder=True))\n",
    "\n",
    "validation_ds = (validation_ds\n",
    "                .map(process_images)\n",
    "                .shuffle(buffer_size=train_ds_size)\n",
    "                .batch(batch_size=32, drop_remainder=True))"
   ]
  },
  {
   "cell_type": "markdown",
   "id": "8d45a859-37fc-46e5-a8b8-6085f0abf87d",
   "metadata": {},
   "source": [
    "# 5. Model Implementation"
   ]
  },
  {
   "cell_type": "code",
   "execution_count": 21,
   "id": "5f73d466-90b3-4c86-bc9a-1aaa69be2b15",
   "metadata": {},
   "outputs": [
    {
     "ename": "SyntaxError",
     "evalue": "positional argument follows keyword argument (Temp/ipykernel_3228/3865802487.py, line 6)",
     "output_type": "error",
     "traceback": [
      "\u001b[1;36m  File \u001b[1;32m\"C:\\Users\\mmuca\\AppData\\Local\\Temp/ipykernel_3228/3865802487.py\"\u001b[1;36m, line \u001b[1;32m6\u001b[0m\n\u001b[1;33m    keras.layers.Conv2D(filters=256, kernel_size=(5, 5), strides(1,1), activation='relu', padding=\"same\"),\u001b[0m\n\u001b[1;37m                                                                                                        ^\u001b[0m\n\u001b[1;31mSyntaxError\u001b[0m\u001b[1;31m:\u001b[0m positional argument follows keyword argument\n"
     ]
    }
   ],
   "source": [
    "model = keras.models.Sequential([\n",
    "    keras.layers.Conv2D(filters=96, kernel_size=(11,11), strides=(4,4), activation='relu', input_shape=(227, 227, 3)),\n",
    "    Keras.layers.BatchNormalization(),\n",
    "    keras.layers.MaxPool2D(pool_size=(3, 3), strides=(2, 2)),\n",
    "    \n",
    "    keras.layers.Conv2D(filters=256, kernel_size=(5, 5), strides(1,1), activation='relu', padding='same'),\n",
    "    keras.layers.BatchNormalization(),\n",
    "    keras.layers.MaxPool2D(pool_size=(3, 3), strides=(2, 2)),\n",
    "  \n",
    "    keras.layers.Conv2D(filters=384, kernel_size=(3,3), strides=(1,1), activation='relu', input_shape=(227, 227, 3)),\n",
    "    Keras.layers.BatchNormalization(),\n",
    "    \n",
    "    keras.layers.Conv2D(filters=384, kernel_size=(3,3), strides=(1,1), activation='relu', input_shape=(227, 227, 3)),\n",
    "    Keras.layers.BatchNormalization(),\n",
    "    \n",
    "    keras.layers.Conv2D(filters=256, kernel_size=(3,3), strides=(1,1), activation='relu', input_shape=(227, 227, 3)),\n",
    "    Keras.layers.BatchNormalization(),\n",
    "    keras.layers.MaxPool2D(pool_size=(3, 3), strides=(2, 2)),\n",
    "    \n",
    "    keras.layers.Flatten(),\n",
    "    keras.layers.Dense(4096, activation='relu'),\n",
    "    keras.layers.Dropout(0.5),\n",
    "    keras.layers.Dense(4096, activation='relu'),\n",
    "    keras.layers.Dropout(0.5),\n",
    "    keras.layers.Dense(10, activation='softmax')\n",
    "    ])"
   ]
  },
  {
   "cell_type": "code",
   "execution_count": null,
   "id": "3c89b836-320d-442f-917a-596002a51f7f",
   "metadata": {},
   "outputs": [],
   "source": []
  }
 ],
 "metadata": {
  "kernelspec": {
   "display_name": "Python 3 (ipykernel)",
   "language": "python",
   "name": "python3"
  },
  "language_info": {
   "codemirror_mode": {
    "name": "ipython",
    "version": 3
   },
   "file_extension": ".py",
   "mimetype": "text/x-python",
   "name": "python",
   "nbconvert_exporter": "python",
   "pygments_lexer": "ipython3",
   "version": "3.9.7"
  }
 },
 "nbformat": 4,
 "nbformat_minor": 5
}

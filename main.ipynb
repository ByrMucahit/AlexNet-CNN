{
 "cells": [
  {
   "cell_type": "markdown",
   "id": "8d6de250-d785-4379-affc-f27d97994391",
   "metadata": {},
   "source": [
    "# Face Detection using CNN"
   ]
  },
  {
   "cell_type": "markdown",
   "id": "4aa5194e-21b2-4193-a0df-a7fd00a8fbb4",
   "metadata": {},
   "source": [
    "## 1. Tools And Libraries"
   ]
  },
  {
   "cell_type": "code",
   "execution_count": 1,
   "id": "172ab4f8-ae99-4d3c-a0f8-87fb88083d8f",
   "metadata": {},
   "outputs": [],
   "source": [
    "import tensorflow as tf\n",
    "from tensorflow import keras\n",
    "import matplotlib.pyplot as plt\n",
    "import os\n",
    "import time"
   ]
  },
  {
   "cell_type": "markdown",
   "id": "7cc67b87-ebf6-43aa-9df5-985df77533f7",
   "metadata": {},
   "source": [
    "## 2. Dataset\n",
    "\n",
    "The CIFAR-10 dataset contains 60,000 colour images, each with dimension 32x32px. The content of images within the dataset is sampled from 10 classes."
   ]
  },
  {
   "cell_type": "code",
   "execution_count": 2,
   "id": "f93c81ee-4fc7-41eb-ad6d-c8d2ac215368",
   "metadata": {},
   "outputs": [],
   "source": [
    "(train_images, train_labels), (test_images, test_labels) = keras.datasets.cifar10.load_data()"
   ]
  },
  {
   "cell_type": "code",
   "execution_count": 3,
   "id": "f30181f4-07e5-42e2-ac6b-d2ba3ad9b782",
   "metadata": {},
   "outputs": [],
   "source": [
    "CLASS_NAMES= ['airplane', 'automobile', 'bird', 'cat', 'deer', 'dog', 'frog', 'horse', 'ship', 'truck']"
   ]
  },
  {
   "cell_type": "markdown",
   "id": "e6fcebb6-f43c-4efe-a431-f16f5b6840f2",
   "metadata": {},
   "source": [
    "The CIFAR dataset is partitioned into 50,000 training and 10,000 test data by default. The last partition of the data we require is the validation data.\n",
    "The validation data is obtained by taking the last 5000 images within yhe training data."
   ]
  },
  {
   "cell_type": "code",
   "execution_count": 4,
   "id": "0a691f04-89c4-4176-87ba-f05bfbcd209c",
   "metadata": {},
   "outputs": [],
   "source": [
    "validation_images, validation_labels = train_images[:5000], train_labels[:5000]\n",
    "train_images, train_labels= train_images[5000:], train_labels[5000:]"
   ]
  },
  {
   "cell_type": "markdown",
   "id": "f0e7d8f8-d831-4be6-8c57-e451203e4360",
   "metadata": {},
   "source": [
    "We're going to use Tensorflow. Tensorflow provides a suite of functions and operations that enables easy data manipulation and modification through a defined input pipline.\n",
    "To be able to access its methods and procedures, it is required that we transform our dataset into an efficient data representation Tensorflow is familiar with."
   ]
  },
  {
   "cell_type": "code",
   "execution_count": 5,
   "id": "1be21a97-6278-4bbf-b453-d6f0c1ab53d9",
   "metadata": {},
   "outputs": [],
   "source": [
    "train_ds = tf.data.Dataset.from_tensor_slices((train_images, train_labels))\n",
    "test_ds = tf.data.Dataset.from_tensor_slices((test_images, test_labels))\n",
    "validation_ds = tf.data.Dataset.from_tensor_slices((validation_images, validation_labels))"
   ]
  },
  {
   "cell_type": "markdown",
   "id": "4957e80f-b78e-495f-80c4-853616a325c2",
   "metadata": {},
   "source": [
    "# 3. Preprocessing"
   ]
  },
  {
   "cell_type": "markdown",
   "id": "4bd81471-7a30-4cef-b041-12a2710b88c6",
   "metadata": {},
   "source": [
    "CIFAR-10 images have small dimension, which makes visualization of the actula pictures a bit difficult"
   ]
  },
  {
   "cell_type": "code",
   "execution_count": 6,
   "id": "2d248bc5-3104-459c-b522-43c2d637298d",
   "metadata": {},
   "outputs": [
    {
     "data": {
      "image/png": "[encoded data removed]",
      "text/plain": [
       "<Figure size 1440x1440 with 5 Axes>"
      ]
     },
     "metadata": {
      "needs_background": "light"
     },
     "output_type": "display_data"
    }
   ],
   "source": [
    "plt.figure(figsize=(20,20))\n",
    "for i, (image,label) in enumerate(train_ds.take(5)):\n",
    "    ax= plt.subplot(5, 5, i+1)\n",
    "    plt.imshow(image)\n",
    "    plt.title(CLASS_NAMES[label.numpy()[0]])\n",
    "    plt.axis('off')"
   ]
  },
  {
   "cell_type": "markdown",
   "id": "28c49c69-7f3d-4579-b7be-9c52ad51271b",
   "metadata": {},
   "source": [
    "The primary preprocessing transformation that will be imposed on the data presented to the network are:\n",
    "* Normalizing and standardizing the images\n",
    "* Resizing of the images from 32x32 to 227x227. The AlexNet network inputs expects a 227x227"
   ]
  },
  {
   "cell_type": "code",
   "execution_count": 7,
   "id": "da78b70e-361f-431e-9df0-35ed9808892c",
   "metadata": {},
   "outputs": [],
   "source": [
    "def process_images(image, label):\n",
    "    # Normalize images to have a mean of 0 and standard deviation of 1\n",
    "    image = tf.image.per_image_standardization(image)\n",
    "    \n",
    "    # Resize images from 32x32 to 227x227\n",
    "    image = tf.image.resize(image, (227, 227))\n",
    "    return image, label"
   ]
  },
  {
   "cell_type": "markdown",
   "id": "0298dce1-2d3f-4d67-9f83-7ee3f6a39b43",
   "metadata": {},
   "source": [
    "# 4. Data/Input Pipeline"
   ]
  },
  {
   "cell_type": "code",
   "execution_count": 8,
   "id": "19a7a535-40da-4262-9056-aaff9bb0986d",
   "metadata": {},
   "outputs": [
    {
     "name": "stdout",
     "output_type": "stream",
     "text": [
      "Training data sizse: 45000\n",
      "Test data size: 10000\n",
      "Validation data size: 5000\n"
     ]
    }
   ],
   "source": [
    "train_ds_size = tf.data.experimental.cardinality(train_ds).numpy()\n",
    "test_ds_size = tf.data.experimental.cardinality(test_ds).numpy()\n",
    "validation_ds_size = tf.data.experimental.cardinality(validation_ds).numpy()\n",
    "print('Training data sizse:', train_ds_size)\n",
    "print('Test data size:', test_ds_size)\n",
    "print('Validation data size:', validation_ds_size)"
   ]
  },
  {
   "cell_type": "markdown",
   "id": "11008b42-b96f-4b4e-ada7-dadd73c2e1da",
   "metadata": {},
   "source": [
    "For our basic input/data pipeline, we will conduct the primary operations:\n",
    "\n",
    "1. Preprocessing the data within the dataset\n",
    "2. Shuffle the dataset\n",
    "3. Batch data within the dataset"
   ]
  },
  {
   "cell_type": "code",
   "execution_count": 9,
   "id": "d284dc1a-061c-4744-abfa-90c4c81382a2",
   "metadata": {},
   "outputs": [],
   "source": [
    "train_ds = (train_ds\n",
    "                    .map(process_images)\n",
    "                    .shuffle(buffer_size=train_ds_size)\n",
    "                    .batch(batch_size=32, drop_remainder=True))\n",
    "\n",
    "test_ds = (train_ds\n",
    "                .map(process_images)\n",
    "                .shuffle(buffer_size=train_ds_size)\n",
    "                .batch(batch_size=32, drop_remainder=True))\n",
    "\n",
    "validation_ds = (validation_ds\n",
    "                .map(process_images)\n",
    "                .shuffle(buffer_size=train_ds_size)\n",
    "                .batch(batch_size=32, drop_remainder=True))"
   ]
  },
  {
   "cell_type": "markdown",
   "id": "8d45a859-37fc-46e5-a8b8-6085f0abf87d",
   "metadata": {},
   "source": [
    "# 5. Model Implementation"
   ]
  },
  {
   "cell_type": "code",
   "execution_count": 10,
   "id": "5f73d466-90b3-4c86-bc9a-1aaa69be2b15",
   "metadata": {},
   "outputs": [],
   "source": [
    "model = keras.models.Sequential([\n",
    "    keras.layers.Conv2D(filters=96, kernel_size=(11,11), strides=(4,4), activation='relu', input_shape=(227, 227, 3)),\n",
    "    keras.layers.BatchNormalization(),\n",
    "    keras.layers.MaxPool2D(pool_size=(3, 3), strides=(2, 2)),\n",
    "    \n",
    "    keras.layers.Conv2D(filters=256, kernel_size=(5, 5), strides=(1,1), activation='relu', padding='same'),\n",
    "    keras.layers.BatchNormalization(),\n",
    "    keras.layers.MaxPool2D(pool_size=(3, 3), strides=(2, 2)),\n",
    "  \n",
    "    keras.layers.Conv2D(filters=384, kernel_size=(3,3), strides=(1,1), activation='relu', input_shape=(227, 227, 3)),\n",
    "    keras.layers.BatchNormalization(),\n",
    "    \n",
    "    keras.layers.Conv2D(filters=384, kernel_size=(3,3), strides=(1,1), activation='relu', input_shape=(227, 227, 3)),\n",
    "    keras.layers.BatchNormalization(),\n",
    "    \n",
    "    keras.layers.Conv2D(filters=256, kernel_size=(3,3), strides=(1,1), activation='relu', input_shape=(227, 227, 3)),\n",
    "    keras.layers.BatchNormalization(),\n",
    "    keras.layers.MaxPool2D(pool_size=(3, 3), strides=(2, 2)),\n",
    "    \n",
    "    keras.layers.Flatten(),\n",
    "    keras.layers.Dense(4096, activation='relu'),\n",
    "    keras.layers.Dropout(0.5),\n",
    "    keras.layers.Dense(4096, activation='relu'),\n",
    "    keras.layers.Dropout(0.5),\n",
    "    keras.layers.Dense(10, activation='softmax')\n",
    "    ])"
   ]
  },
  {
   "cell_type": "markdown",
   "id": "59faa87c-5343-4a75-bcab-275bbc7f74b1",
   "metadata": {},
   "source": [
    "# 6. Tensorboard"
   ]
  },
  {
   "cell_type": "code",
   "execution_count": 11,
   "id": "464e5390-2b4a-407a-ad28-a24d707a5797",
   "metadata": {},
   "outputs": [],
   "source": [
    "root_logdir = os.path.join(os.curdir, \"logs\\\\fit\\\\\")\n",
    "\n",
    "def get_run_logdir():\n",
    "    run_id = time.strftime(\"run_%Y_%m_%d-%H_%M_%S\")\n",
    "    return os.path.join(root_logdir, run_id)\n",
    "                           \n",
    "run_logdir = get_run_logdir()\n",
    "tensorboard_cb = keras.callbacks.TensorBoard(run_logdir)"
   ]
  },
  {
   "cell_type": "markdown",
   "id": "27db6184-50a5-4621-a00b-1f0e60ee94c4",
   "metadata": {},
   "source": [
    "# 7. Training and Results"
   ]
  },
  {
   "cell_type": "code",
   "execution_count": 12,
   "id": "60635128-642e-450e-9286-8781d66f23ee",
   "metadata": {},
   "outputs": [
    {
     "name": "stdout",
     "output_type": "stream",
     "text": [
      "Model: \"sequential\"\n",
      "_________________________________________________________________\n",
      "Layer (type)                 Output Shape              Param #   \n",
      "=================================================================\n",
      "conv2d (Conv2D)              (None, 55, 55, 96)        34944     \n",
      "_________________________________________________________________\n",
      "batch_normalization (BatchNo (None, 55, 55, 96)        384       \n",
      "_________________________________________________________________\n",
      "max_pooling2d (MaxPooling2D) (None, 27, 27, 96)        0         \n",
      "_________________________________________________________________\n",
      "conv2d_1 (Conv2D)            (None, 27, 27, 256)       614656    \n",
      "_________________________________________________________________\n",
      "batch_normalization_1 (Batch (None, 27, 27, 256)       1024      \n",
      "_________________________________________________________________\n",
      "max_pooling2d_1 (MaxPooling2 (None, 13, 13, 256)       0         \n",
      "_________________________________________________________________\n",
      "conv2d_2 (Conv2D)            (None, 11, 11, 384)       885120    \n",
      "_________________________________________________________________\n",
      "batch_normalization_2 (Batch (None, 11, 11, 384)       1536      \n",
      "_________________________________________________________________\n",
      "conv2d_3 (Conv2D)            (None, 9, 9, 384)         1327488   \n",
      "_________________________________________________________________\n",
      "batch_normalization_3 (Batch (None, 9, 9, 384)         1536      \n",
      "_________________________________________________________________\n",
      "conv2d_4 (Conv2D)            (None, 7, 7, 256)         884992    \n",
      "_________________________________________________________________\n",
      "batch_normalization_4 (Batch (None, 7, 7, 256)         1024      \n",
      "_________________________________________________________________\n",
      "max_pooling2d_2 (MaxPooling2 (None, 3, 3, 256)         0         \n",
      "_________________________________________________________________\n",
      "flatten (Flatten)            (None, 2304)              0         \n",
      "_________________________________________________________________\n",
      "dense (Dense)                (None, 4096)              9441280   \n",
      "_________________________________________________________________\n",
      "dropout (Dropout)            (None, 4096)              0         \n",
      "_________________________________________________________________\n",
      "dense_1 (Dense)              (None, 4096)              16781312  \n",
      "_________________________________________________________________\n",
      "dropout_1 (Dropout)          (None, 4096)              0         \n",
      "_________________________________________________________________\n",
      "dense_2 (Dense)              (None, 10)                40970     \n",
      "=================================================================\n",
      "Total params: 30,016,266\n",
      "Trainable params: 30,013,514\n",
      "Non-trainable params: 2,752\n",
      "_________________________________________________________________\n"
     ]
    },
    {
     "name": "stderr",
     "output_type": "stream",
     "text": [
      "C:\\Users\\mmuca\\anaconda3\\envs\\tf2.4\\lib\\site-packages\\keras\\optimizer_v2\\optimizer_v2.py:355: UserWarning: The `lr` argument is deprecated, use `learning_rate` instead.\n",
      "  warnings.warn(\n"
     ]
    }
   ],
   "source": [
    "model.compile(loss=\"sparse_categorical_crossentropy\", optimizer= tf.optimizers.SGD(lr=0.001), metrics=['accuracy'])\n",
    "model.summary()"
   ]
  },
  {
   "cell_type": "code",
   "execution_count": 13,
   "id": "49c8d288-07a8-484b-8e52-1136d079b97f",
   "metadata": {},
   "outputs": [
    {
     "name": "stdout",
     "output_type": "stream",
     "text": [
      "Epoch 1/50\n",
      "1406/1406 [==============================] - 321s 152ms/step - loss: 2.0384 - accuracy: 0.3269 - val_loss: 1.4239 - val_accuracy: 0.4992\n",
      "Epoch 2/50\n",
      "1406/1406 [==============================] - 295s 149ms/step - loss: 1.5280 - accuracy: 0.4575 - val_loss: 1.2593 - val_accuracy: 0.5543\n",
      "Epoch 3/50\n",
      "1406/1406 [==============================] - 268s 140ms/step - loss: 1.3392 - accuracy: 0.5241 - val_loss: 1.1028 - val_accuracy: 0.6072\n",
      "Epoch 4/50\n",
      "1406/1406 [==============================] - 276s 142ms/step - loss: 1.2115 - accuracy: 0.5717 - val_loss: 1.0590 - val_accuracy: 0.6284\n",
      "Epoch 5/50\n",
      "1406/1406 [==============================] - 268s 135ms/step - loss: 1.1152 - accuracy: 0.6054 - val_loss: 0.9661 - val_accuracy: 0.6621\n",
      "Epoch 6/50\n",
      "1406/1406 [==============================] - 263s 138ms/step - loss: 1.0436 - accuracy: 0.6308 - val_loss: 0.9481 - val_accuracy: 0.6659\n",
      "Epoch 7/50\n",
      "1406/1406 [==============================] - 282s 145ms/step - loss: 0.9736 - accuracy: 0.6581 - val_loss: 0.8895 - val_accuracy: 0.6809\n",
      "Epoch 8/50\n",
      "1406/1406 [==============================] - 288s 149ms/step - loss: 0.9125 - accuracy: 0.6784 - val_loss: 0.8656 - val_accuracy: 0.6929\n",
      "Epoch 9/50\n",
      "1406/1406 [==============================] - 265s 135ms/step - loss: 0.8624 - accuracy: 0.6957 - val_loss: 0.7837 - val_accuracy: 0.7244\n",
      "Epoch 10/50\n",
      "1406/1406 [==============================] - 274s 142ms/step - loss: 0.8066 - accuracy: 0.7152 - val_loss: 0.7684 - val_accuracy: 0.7266\n",
      "Epoch 11/50\n",
      "1406/1406 [==============================] - 279s 144ms/step - loss: 0.7638 - accuracy: 0.7325 - val_loss: 0.7553 - val_accuracy: 0.7426\n",
      "Epoch 12/50\n",
      "1406/1406 [==============================] - 263s 140ms/step - loss: 0.7256 - accuracy: 0.7467 - val_loss: 0.7365 - val_accuracy: 0.7436\n",
      "Epoch 13/50\n",
      "1406/1406 [==============================] - 277s 141ms/step - loss: 0.6811 - accuracy: 0.7606 - val_loss: 0.7213 - val_accuracy: 0.7476\n",
      "Epoch 14/50\n",
      "1406/1406 [==============================] - 256s 135ms/step - loss: 0.6489 - accuracy: 0.7719 - val_loss: 0.7012 - val_accuracy: 0.7558\n",
      "Epoch 15/50\n",
      "1406/1406 [==============================] - 277s 144ms/step - loss: 0.6090 - accuracy: 0.7867 - val_loss: 0.7035 - val_accuracy: 0.7592\n",
      "Epoch 16/50\n",
      "1406/1406 [==============================] - 269s 145ms/step - loss: 0.5726 - accuracy: 0.8018 - val_loss: 0.6728 - val_accuracy: 0.7674\n",
      "Epoch 17/50\n",
      "1406/1406 [==============================] - 278s 144ms/step - loss: 0.5428 - accuracy: 0.8076 - val_loss: 0.6663 - val_accuracy: 0.7666\n",
      "Epoch 18/50\n",
      "1406/1406 [==============================] - 265s 135ms/step - loss: 0.5078 - accuracy: 0.8195 - val_loss: 0.6737 - val_accuracy: 0.7670\n",
      "Epoch 19/50\n",
      "1406/1406 [==============================] - 275s 140ms/step - loss: 0.4801 - accuracy: 0.8318 - val_loss: 0.6375 - val_accuracy: 0.7796\n",
      "Epoch 20/50\n",
      "1406/1406 [==============================] - 271s 147ms/step - loss: 0.4428 - accuracy: 0.8439 - val_loss: 0.6206 - val_accuracy: 0.7851\n",
      "Epoch 21/50\n",
      "1406/1406 [==============================] - 287s 148ms/step - loss: 0.4137 - accuracy: 0.8545 - val_loss: 0.6323 - val_accuracy: 0.7780\n",
      "Epoch 22/50\n",
      "1406/1406 [==============================] - 261s 137ms/step - loss: 0.3911 - accuracy: 0.8630 - val_loss: 0.6507 - val_accuracy: 0.7802\n",
      "Epoch 23/50\n",
      "1406/1406 [==============================] - 273s 140ms/step - loss: 0.3565 - accuracy: 0.8737 - val_loss: 0.6643 - val_accuracy: 0.7768\n",
      "Epoch 24/50\n",
      "1406/1406 [==============================] - 260s 142ms/step - loss: 0.3342 - accuracy: 0.8832 - val_loss: 0.6755 - val_accuracy: 0.7760\n",
      "Epoch 25/50\n",
      "1406/1406 [==============================] - 294s 155ms/step - loss: 0.3107 - accuracy: 0.8902 - val_loss: 0.6309 - val_accuracy: 0.7953\n",
      "Epoch 26/50\n",
      "1406/1406 [==============================] - 281s 146ms/step - loss: 0.2851 - accuracy: 0.9009 - val_loss: 0.6236 - val_accuracy: 0.8025\n",
      "Epoch 27/50\n",
      "1406/1406 [==============================] - 274s 138ms/step - loss: 0.2584 - accuracy: 0.9101 - val_loss: 0.7011 - val_accuracy: 0.7825\n",
      "Epoch 28/50\n",
      "1406/1406 [==============================] - 264s 141ms/step - loss: 0.2401 - accuracy: 0.9160 - val_loss: 0.6662 - val_accuracy: 0.7895\n",
      "Epoch 29/50\n",
      "1406/1406 [==============================] - 294s 155ms/step - loss: 0.2166 - accuracy: 0.9249 - val_loss: 0.6631 - val_accuracy: 0.7965\n",
      "Epoch 30/50\n",
      "1406/1406 [==============================] - 298s 157ms/step - loss: 0.1969 - accuracy: 0.9318 - val_loss: 0.7403 - val_accuracy: 0.7831\n",
      "Epoch 31/50\n",
      "1406/1406 [==============================] - 260s 132ms/step - loss: 0.1822 - accuracy: 0.9374 - val_loss: 0.6942 - val_accuracy: 0.7893\n",
      "Epoch 32/50\n",
      "1406/1406 [==============================] - 281s 141ms/step - loss: 0.1633 - accuracy: 0.9436 - val_loss: 0.7430 - val_accuracy: 0.7879\n",
      "Epoch 33/50\n",
      "1406/1406 [==============================] - 283s 150ms/step - loss: 0.1453 - accuracy: 0.9493 - val_loss: 0.7470 - val_accuracy: 0.7887\n",
      "Epoch 34/50\n",
      "1406/1406 [==============================] - 303s 159ms/step - loss: 0.1349 - accuracy: 0.9534 - val_loss: 0.7419 - val_accuracy: 0.7945\n",
      "Epoch 35/50\n",
      "1406/1406 [==============================] - 267s 137ms/step - loss: 0.1241 - accuracy: 0.9576 - val_loss: 0.7353 - val_accuracy: 0.7989\n",
      "Epoch 36/50\n",
      "1406/1406 [==============================] - 272s 141ms/step - loss: 0.1162 - accuracy: 0.9597 - val_loss: 0.7602 - val_accuracy: 0.7989\n",
      "Epoch 37/50\n",
      "1406/1406 [==============================] - 277s 146ms/step - loss: 0.1038 - accuracy: 0.9649 - val_loss: 0.7600 - val_accuracy: 0.7963\n",
      "Epoch 38/50\n",
      "1406/1406 [==============================] - 301s 163ms/step - loss: 0.0968 - accuracy: 0.9675 - val_loss: 0.7686 - val_accuracy: 0.7951\n",
      "Epoch 39/50\n",
      "1406/1406 [==============================] - 281s 144ms/step - loss: 0.0888 - accuracy: 0.9687 - val_loss: 0.8180 - val_accuracy: 0.7881\n",
      "Epoch 40/50\n",
      "1406/1406 [==============================] - 273s 140ms/step - loss: 0.0810 - accuracy: 0.9731 - val_loss: 0.7762 - val_accuracy: 0.7995\n",
      "Epoch 41/50\n",
      "1406/1406 [==============================] - 280s 145ms/step - loss: 0.0748 - accuracy: 0.9748 - val_loss: 0.8072 - val_accuracy: 0.7959\n",
      "Epoch 42/50\n",
      "1406/1406 [==============================] - 302s 161ms/step - loss: 0.0661 - accuracy: 0.9774 - val_loss: 0.8253 - val_accuracy: 0.7969\n",
      "Epoch 43/50\n",
      "1406/1406 [==============================] - 290s 150ms/step - loss: 0.0614 - accuracy: 0.9798 - val_loss: 0.7918 - val_accuracy: 0.8019\n",
      "Epoch 44/50\n",
      "1406/1406 [==============================] - 264s 137ms/step - loss: 0.0591 - accuracy: 0.9803 - val_loss: 0.8157 - val_accuracy: 0.7979\n",
      "Epoch 45/50\n",
      "1406/1406 [==============================] - 277s 142ms/step - loss: 0.0527 - accuracy: 0.9830 - val_loss: 0.8420 - val_accuracy: 0.7999\n",
      "Epoch 46/50\n",
      "1406/1406 [==============================] - 293s 154ms/step - loss: 0.0514 - accuracy: 0.9835 - val_loss: 0.8428 - val_accuracy: 0.8029\n",
      "Epoch 47/50\n",
      "1406/1406 [==============================] - 297s 159ms/step - loss: 0.0499 - accuracy: 0.9831 - val_loss: 0.8330 - val_accuracy: 0.7995\n",
      "Epoch 48/50\n",
      "1406/1406 [==============================] - 276s 138ms/step - loss: 0.0463 - accuracy: 0.9854 - val_loss: 0.8257 - val_accuracy: 0.8023\n",
      "Epoch 49/50\n",
      "1406/1406 [==============================] - 278s 141ms/step - loss: 0.0439 - accuracy: 0.9859 - val_loss: 0.8345 - val_accuracy: 0.8027\n",
      "Epoch 50/50\n",
      "1406/1406 [==============================] - 292s 150ms/step - loss: 0.0398 - accuracy: 0.9875 - val_loss: 0.8521 - val_accuracy: 0.8027\n"
     ]
    },
    {
     "data": {
      "text/plain": [
       "<keras.callbacks.History at 0x28c3d9de940>"
      ]
     },
     "execution_count": 13,
     "metadata": {},
     "output_type": "execute_result"
    }
   ],
   "source": [
    "model.fit(train_ds,\n",
    "          epochs=50,\n",
    "          validation_data= validation_ds,\n",
    "          validation_freq=1,\n",
    "          callbacks=[tensorboard_cb])"
   ]
  },
  {
   "cell_type": "markdown",
   "id": "0a1b329e-1326-4ed6-afb2-304cd01dcc08",
   "metadata": {},
   "source": [
    "# 8.Evaluation"
   ]
  },
  {
   "cell_type": "code",
   "execution_count": 17,
   "id": "b62728ab-5706-49d1-9c83-ecb6decc1ff4",
   "metadata": {},
   "outputs": [
    {
     "name": "stdout",
     "output_type": "stream",
     "text": [
      "WARNING:tensorflow:Model was constructed with shape (None, 227, 227, 3) for input KerasTensor(type_spec=TensorSpec(shape=(None, 227, 227, 3), dtype=tf.float32, name='conv2d_input'), name='conv2d_input', description=\"created by layer 'conv2d_input'\"), but it was called on an input with incompatible shape (32, 32, 227, 227, 3).\n"
     ]
    },
    {
     "ename": "ValueError",
     "evalue": "in user code:\n\n    C:\\Users\\mmuca\\anaconda3\\envs\\tf2.4\\lib\\site-packages\\keras\\engine\\training.py:1330 test_function  *\n        return step_function(self, iterator)\n    C:\\Users\\mmuca\\anaconda3\\envs\\tf2.4\\lib\\site-packages\\keras\\engine\\training.py:1320 step_function  **\n        outputs = model.distribute_strategy.run(run_step, args=(data,))\n    C:\\Users\\mmuca\\anaconda3\\envs\\tf2.4\\lib\\site-packages\\tensorflow\\python\\distribute\\distribute_lib.py:1286 run\n        return self._extended.call_for_each_replica(fn, args=args, kwargs=kwargs)\n    C:\\Users\\mmuca\\anaconda3\\envs\\tf2.4\\lib\\site-packages\\tensorflow\\python\\distribute\\distribute_lib.py:2849 call_for_each_replica\n        return self._call_for_each_replica(fn, args, kwargs)\n    C:\\Users\\mmuca\\anaconda3\\envs\\tf2.4\\lib\\site-packages\\tensorflow\\python\\distribute\\distribute_lib.py:3632 _call_for_each_replica\n        return fn(*args, **kwargs)\n    C:\\Users\\mmuca\\anaconda3\\envs\\tf2.4\\lib\\site-packages\\keras\\engine\\training.py:1313 run_step  **\n        outputs = model.test_step(data)\n    C:\\Users\\mmuca\\anaconda3\\envs\\tf2.4\\lib\\site-packages\\keras\\engine\\training.py:1267 test_step\n        y_pred = self(x, training=False)\n    C:\\Users\\mmuca\\anaconda3\\envs\\tf2.4\\lib\\site-packages\\keras\\engine\\base_layer.py:1037 __call__\n        outputs = call_fn(inputs, *args, **kwargs)\n    C:\\Users\\mmuca\\anaconda3\\envs\\tf2.4\\lib\\site-packages\\keras\\engine\\sequential.py:369 call\n        return super(Sequential, self).call(inputs, training=training, mask=mask)\n    C:\\Users\\mmuca\\anaconda3\\envs\\tf2.4\\lib\\site-packages\\keras\\engine\\functional.py:414 call\n        return self._run_internal_graph(\n    C:\\Users\\mmuca\\anaconda3\\envs\\tf2.4\\lib\\site-packages\\keras\\engine\\functional.py:550 _run_internal_graph\n        outputs = node.layer(*args, **kwargs)\n    C:\\Users\\mmuca\\anaconda3\\envs\\tf2.4\\lib\\site-packages\\keras\\engine\\base_layer.py:1020 __call__\n        input_spec.assert_input_compatibility(self.input_spec, inputs, self.name)\n    C:\\Users\\mmuca\\anaconda3\\envs\\tf2.4\\lib\\site-packages\\keras\\engine\\input_spec.py:214 assert_input_compatibility\n        raise ValueError('Input ' + str(input_index) + ' of layer ' +\n\n    ValueError: Input 0 of layer batch_normalization is incompatible with the layer: expected ndim=4, found ndim=5. Full shape received: (32, 32, 55, 55, 96)\n",
     "output_type": "error",
     "traceback": [
      "\u001b[1;31m---------------------------------------------------------------------------\u001b[0m",
      "\u001b[1;31mValueError\u001b[0m                                Traceback (most recent call last)",
      "\u001b[1;32m~\\AppData\\Local\\Temp/ipykernel_10600/383571708.py\u001b[0m in \u001b[0;36m<module>\u001b[1;34m\u001b[0m\n\u001b[1;32m----> 1\u001b[1;33m \u001b[0mmodel\u001b[0m\u001b[1;33m.\u001b[0m\u001b[0mevaluate\u001b[0m\u001b[1;33m(\u001b[0m\u001b[0mtest_ds\u001b[0m\u001b[1;33m)\u001b[0m\u001b[1;33m\u001b[0m\u001b[1;33m\u001b[0m\u001b[0m\n\u001b[0m",
      "\u001b[1;32m~\\anaconda3\\envs\\tf2.4\\lib\\site-packages\\keras\\engine\\training.py\u001b[0m in \u001b[0;36mevaluate\u001b[1;34m(self, x, y, batch_size, verbose, sample_weight, steps, callbacks, max_queue_size, workers, use_multiprocessing, return_dict, **kwargs)\u001b[0m\n\u001b[0;32m   1499\u001b[0m             \u001b[1;32mwith\u001b[0m \u001b[0mtf\u001b[0m\u001b[1;33m.\u001b[0m\u001b[0mprofiler\u001b[0m\u001b[1;33m.\u001b[0m\u001b[0mexperimental\u001b[0m\u001b[1;33m.\u001b[0m\u001b[0mTrace\u001b[0m\u001b[1;33m(\u001b[0m\u001b[1;34m'test'\u001b[0m\u001b[1;33m,\u001b[0m \u001b[0mstep_num\u001b[0m\u001b[1;33m=\u001b[0m\u001b[0mstep\u001b[0m\u001b[1;33m,\u001b[0m \u001b[0m_r\u001b[0m\u001b[1;33m=\u001b[0m\u001b[1;36m1\u001b[0m\u001b[1;33m)\u001b[0m\u001b[1;33m:\u001b[0m\u001b[1;33m\u001b[0m\u001b[1;33m\u001b[0m\u001b[0m\n\u001b[0;32m   1500\u001b[0m               \u001b[0mcallbacks\u001b[0m\u001b[1;33m.\u001b[0m\u001b[0mon_test_batch_begin\u001b[0m\u001b[1;33m(\u001b[0m\u001b[0mstep\u001b[0m\u001b[1;33m)\u001b[0m\u001b[1;33m\u001b[0m\u001b[1;33m\u001b[0m\u001b[0m\n\u001b[1;32m-> 1501\u001b[1;33m               \u001b[0mtmp_logs\u001b[0m \u001b[1;33m=\u001b[0m \u001b[0mself\u001b[0m\u001b[1;33m.\u001b[0m\u001b[0mtest_function\u001b[0m\u001b[1;33m(\u001b[0m\u001b[0miterator\u001b[0m\u001b[1;33m)\u001b[0m\u001b[1;33m\u001b[0m\u001b[1;33m\u001b[0m\u001b[0m\n\u001b[0m\u001b[0;32m   1502\u001b[0m               \u001b[1;32mif\u001b[0m \u001b[0mdata_handler\u001b[0m\u001b[1;33m.\u001b[0m\u001b[0mshould_sync\u001b[0m\u001b[1;33m:\u001b[0m\u001b[1;33m\u001b[0m\u001b[1;33m\u001b[0m\u001b[0m\n\u001b[0;32m   1503\u001b[0m                 \u001b[0mcontext\u001b[0m\u001b[1;33m.\u001b[0m\u001b[0masync_wait\u001b[0m\u001b[1;33m(\u001b[0m\u001b[1;33m)\u001b[0m\u001b[1;33m\u001b[0m\u001b[1;33m\u001b[0m\u001b[0m\n",
      "\u001b[1;32m~\\anaconda3\\envs\\tf2.4\\lib\\site-packages\\tensorflow\\python\\eager\\def_function.py\u001b[0m in \u001b[0;36m__call__\u001b[1;34m(self, *args, **kwds)\u001b[0m\n\u001b[0;32m    883\u001b[0m \u001b[1;33m\u001b[0m\u001b[0m\n\u001b[0;32m    884\u001b[0m       \u001b[1;32mwith\u001b[0m \u001b[0mOptionalXlaContext\u001b[0m\u001b[1;33m(\u001b[0m\u001b[0mself\u001b[0m\u001b[1;33m.\u001b[0m\u001b[0m_jit_compile\u001b[0m\u001b[1;33m)\u001b[0m\u001b[1;33m:\u001b[0m\u001b[1;33m\u001b[0m\u001b[1;33m\u001b[0m\u001b[0m\n\u001b[1;32m--> 885\u001b[1;33m         \u001b[0mresult\u001b[0m \u001b[1;33m=\u001b[0m \u001b[0mself\u001b[0m\u001b[1;33m.\u001b[0m\u001b[0m_call\u001b[0m\u001b[1;33m(\u001b[0m\u001b[1;33m*\u001b[0m\u001b[0margs\u001b[0m\u001b[1;33m,\u001b[0m \u001b[1;33m**\u001b[0m\u001b[0mkwds\u001b[0m\u001b[1;33m)\u001b[0m\u001b[1;33m\u001b[0m\u001b[1;33m\u001b[0m\u001b[0m\n\u001b[0m\u001b[0;32m    886\u001b[0m \u001b[1;33m\u001b[0m\u001b[0m\n\u001b[0;32m    887\u001b[0m       \u001b[0mnew_tracing_count\u001b[0m \u001b[1;33m=\u001b[0m \u001b[0mself\u001b[0m\u001b[1;33m.\u001b[0m\u001b[0mexperimental_get_tracing_count\u001b[0m\u001b[1;33m(\u001b[0m\u001b[1;33m)\u001b[0m\u001b[1;33m\u001b[0m\u001b[1;33m\u001b[0m\u001b[0m\n",
      "\u001b[1;32m~\\anaconda3\\envs\\tf2.4\\lib\\site-packages\\tensorflow\\python\\eager\\def_function.py\u001b[0m in \u001b[0;36m_call\u001b[1;34m(self, *args, **kwds)\u001b[0m\n\u001b[0;32m    922\u001b[0m       \u001b[1;31m# In this case we have not created variables on the first call. So we can\u001b[0m\u001b[1;33m\u001b[0m\u001b[1;33m\u001b[0m\u001b[1;33m\u001b[0m\u001b[0m\n\u001b[0;32m    923\u001b[0m       \u001b[1;31m# run the first trace but we should fail if variables are created.\u001b[0m\u001b[1;33m\u001b[0m\u001b[1;33m\u001b[0m\u001b[1;33m\u001b[0m\u001b[0m\n\u001b[1;32m--> 924\u001b[1;33m       \u001b[0mresults\u001b[0m \u001b[1;33m=\u001b[0m \u001b[0mself\u001b[0m\u001b[1;33m.\u001b[0m\u001b[0m_stateful_fn\u001b[0m\u001b[1;33m(\u001b[0m\u001b[1;33m*\u001b[0m\u001b[0margs\u001b[0m\u001b[1;33m,\u001b[0m \u001b[1;33m**\u001b[0m\u001b[0mkwds\u001b[0m\u001b[1;33m)\u001b[0m\u001b[1;33m\u001b[0m\u001b[1;33m\u001b[0m\u001b[0m\n\u001b[0m\u001b[0;32m    925\u001b[0m       \u001b[1;32mif\u001b[0m \u001b[0mself\u001b[0m\u001b[1;33m.\u001b[0m\u001b[0m_created_variables\u001b[0m \u001b[1;32mand\u001b[0m \u001b[1;32mnot\u001b[0m \u001b[0mALLOW_DYNAMIC_VARIABLE_CREATION\u001b[0m\u001b[1;33m:\u001b[0m\u001b[1;33m\u001b[0m\u001b[1;33m\u001b[0m\u001b[0m\n\u001b[0;32m    926\u001b[0m         raise ValueError(\"Creating variables on a non-first call to a function\"\n",
      "\u001b[1;32m~\\anaconda3\\envs\\tf2.4\\lib\\site-packages\\tensorflow\\python\\eager\\function.py\u001b[0m in \u001b[0;36m__call__\u001b[1;34m(self, *args, **kwargs)\u001b[0m\n\u001b[0;32m   3036\u001b[0m     \u001b[1;32mwith\u001b[0m \u001b[0mself\u001b[0m\u001b[1;33m.\u001b[0m\u001b[0m_lock\u001b[0m\u001b[1;33m:\u001b[0m\u001b[1;33m\u001b[0m\u001b[1;33m\u001b[0m\u001b[0m\n\u001b[0;32m   3037\u001b[0m       (graph_function,\n\u001b[1;32m-> 3038\u001b[1;33m        filtered_flat_args) = self._maybe_define_function(args, kwargs)\n\u001b[0m\u001b[0;32m   3039\u001b[0m     return graph_function._call_flat(\n\u001b[0;32m   3040\u001b[0m         filtered_flat_args, captured_inputs=graph_function.captured_inputs)  # pylint: disable=protected-access\n",
      "\u001b[1;32m~\\anaconda3\\envs\\tf2.4\\lib\\site-packages\\tensorflow\\python\\eager\\function.py\u001b[0m in \u001b[0;36m_maybe_define_function\u001b[1;34m(self, args, kwargs)\u001b[0m\n\u001b[0;32m   3457\u001b[0m               \u001b[0mself\u001b[0m\u001b[1;33m.\u001b[0m\u001b[0minput_signature\u001b[0m \u001b[1;32mis\u001b[0m \u001b[1;32mNone\u001b[0m \u001b[1;32mand\u001b[0m\u001b[1;33m\u001b[0m\u001b[1;33m\u001b[0m\u001b[0m\n\u001b[0;32m   3458\u001b[0m               call_context_key in self._function_cache.missed):\n\u001b[1;32m-> 3459\u001b[1;33m             return self._define_function_with_shape_relaxation(\n\u001b[0m\u001b[0;32m   3460\u001b[0m                 args, kwargs, flat_args, filtered_flat_args, cache_key_context)\n\u001b[0;32m   3461\u001b[0m \u001b[1;33m\u001b[0m\u001b[0m\n",
      "\u001b[1;32m~\\anaconda3\\envs\\tf2.4\\lib\\site-packages\\tensorflow\\python\\eager\\function.py\u001b[0m in \u001b[0;36m_define_function_with_shape_relaxation\u001b[1;34m(self, args, kwargs, flat_args, filtered_flat_args, cache_key_context)\u001b[0m\n\u001b[0;32m   3379\u001b[0m           expand_composites=True)\n\u001b[0;32m   3380\u001b[0m \u001b[1;33m\u001b[0m\u001b[0m\n\u001b[1;32m-> 3381\u001b[1;33m     graph_function = self._create_graph_function(\n\u001b[0m\u001b[0;32m   3382\u001b[0m         args, kwargs, override_flat_arg_shapes=relaxed_arg_shapes)\n\u001b[0;32m   3383\u001b[0m     \u001b[0mself\u001b[0m\u001b[1;33m.\u001b[0m\u001b[0m_function_cache\u001b[0m\u001b[1;33m.\u001b[0m\u001b[0marg_relaxed\u001b[0m\u001b[1;33m[\u001b[0m\u001b[0mrank_only_cache_key\u001b[0m\u001b[1;33m]\u001b[0m \u001b[1;33m=\u001b[0m \u001b[0mgraph_function\u001b[0m\u001b[1;33m\u001b[0m\u001b[1;33m\u001b[0m\u001b[0m\n",
      "\u001b[1;32m~\\anaconda3\\envs\\tf2.4\\lib\\site-packages\\tensorflow\\python\\eager\\function.py\u001b[0m in \u001b[0;36m_create_graph_function\u001b[1;34m(self, args, kwargs, override_flat_arg_shapes)\u001b[0m\n\u001b[0;32m   3296\u001b[0m     \u001b[0marg_names\u001b[0m \u001b[1;33m=\u001b[0m \u001b[0mbase_arg_names\u001b[0m \u001b[1;33m+\u001b[0m \u001b[0mmissing_arg_names\u001b[0m\u001b[1;33m\u001b[0m\u001b[1;33m\u001b[0m\u001b[0m\n\u001b[0;32m   3297\u001b[0m     graph_function = ConcreteFunction(\n\u001b[1;32m-> 3298\u001b[1;33m         func_graph_module.func_graph_from_py_func(\n\u001b[0m\u001b[0;32m   3299\u001b[0m             \u001b[0mself\u001b[0m\u001b[1;33m.\u001b[0m\u001b[0m_name\u001b[0m\u001b[1;33m,\u001b[0m\u001b[1;33m\u001b[0m\u001b[1;33m\u001b[0m\u001b[0m\n\u001b[0;32m   3300\u001b[0m             \u001b[0mself\u001b[0m\u001b[1;33m.\u001b[0m\u001b[0m_python_function\u001b[0m\u001b[1;33m,\u001b[0m\u001b[1;33m\u001b[0m\u001b[1;33m\u001b[0m\u001b[0m\n",
      "\u001b[1;32m~\\anaconda3\\envs\\tf2.4\\lib\\site-packages\\tensorflow\\python\\framework\\func_graph.py\u001b[0m in \u001b[0;36mfunc_graph_from_py_func\u001b[1;34m(name, python_func, args, kwargs, signature, func_graph, autograph, autograph_options, add_control_dependencies, arg_names, op_return_value, collections, capture_by_value, override_flat_arg_shapes, acd_record_initial_resource_uses)\u001b[0m\n\u001b[0;32m   1005\u001b[0m         \u001b[0m_\u001b[0m\u001b[1;33m,\u001b[0m \u001b[0moriginal_func\u001b[0m \u001b[1;33m=\u001b[0m \u001b[0mtf_decorator\u001b[0m\u001b[1;33m.\u001b[0m\u001b[0munwrap\u001b[0m\u001b[1;33m(\u001b[0m\u001b[0mpython_func\u001b[0m\u001b[1;33m)\u001b[0m\u001b[1;33m\u001b[0m\u001b[1;33m\u001b[0m\u001b[0m\n\u001b[0;32m   1006\u001b[0m \u001b[1;33m\u001b[0m\u001b[0m\n\u001b[1;32m-> 1007\u001b[1;33m       \u001b[0mfunc_outputs\u001b[0m \u001b[1;33m=\u001b[0m \u001b[0mpython_func\u001b[0m\u001b[1;33m(\u001b[0m\u001b[1;33m*\u001b[0m\u001b[0mfunc_args\u001b[0m\u001b[1;33m,\u001b[0m \u001b[1;33m**\u001b[0m\u001b[0mfunc_kwargs\u001b[0m\u001b[1;33m)\u001b[0m\u001b[1;33m\u001b[0m\u001b[1;33m\u001b[0m\u001b[0m\n\u001b[0m\u001b[0;32m   1008\u001b[0m \u001b[1;33m\u001b[0m\u001b[0m\n\u001b[0;32m   1009\u001b[0m       \u001b[1;31m# invariant: `func_outputs` contains only Tensors, CompositeTensors,\u001b[0m\u001b[1;33m\u001b[0m\u001b[1;33m\u001b[0m\u001b[1;33m\u001b[0m\u001b[0m\n",
      "\u001b[1;32m~\\anaconda3\\envs\\tf2.4\\lib\\site-packages\\tensorflow\\python\\eager\\def_function.py\u001b[0m in \u001b[0;36mwrapped_fn\u001b[1;34m(*args, **kwds)\u001b[0m\n\u001b[0;32m    666\u001b[0m         \u001b[1;31m# the function a weak reference to itself to avoid a reference cycle.\u001b[0m\u001b[1;33m\u001b[0m\u001b[1;33m\u001b[0m\u001b[1;33m\u001b[0m\u001b[0m\n\u001b[0;32m    667\u001b[0m         \u001b[1;32mwith\u001b[0m \u001b[0mOptionalXlaContext\u001b[0m\u001b[1;33m(\u001b[0m\u001b[0mcompile_with_xla\u001b[0m\u001b[1;33m)\u001b[0m\u001b[1;33m:\u001b[0m\u001b[1;33m\u001b[0m\u001b[1;33m\u001b[0m\u001b[0m\n\u001b[1;32m--> 668\u001b[1;33m           \u001b[0mout\u001b[0m \u001b[1;33m=\u001b[0m \u001b[0mweak_wrapped_fn\u001b[0m\u001b[1;33m(\u001b[0m\u001b[1;33m)\u001b[0m\u001b[1;33m.\u001b[0m\u001b[0m__wrapped__\u001b[0m\u001b[1;33m(\u001b[0m\u001b[1;33m*\u001b[0m\u001b[0margs\u001b[0m\u001b[1;33m,\u001b[0m \u001b[1;33m**\u001b[0m\u001b[0mkwds\u001b[0m\u001b[1;33m)\u001b[0m\u001b[1;33m\u001b[0m\u001b[1;33m\u001b[0m\u001b[0m\n\u001b[0m\u001b[0;32m    669\u001b[0m         \u001b[1;32mreturn\u001b[0m \u001b[0mout\u001b[0m\u001b[1;33m\u001b[0m\u001b[1;33m\u001b[0m\u001b[0m\n\u001b[0;32m    670\u001b[0m \u001b[1;33m\u001b[0m\u001b[0m\n",
      "\u001b[1;32m~\\anaconda3\\envs\\tf2.4\\lib\\site-packages\\tensorflow\\python\\framework\\func_graph.py\u001b[0m in \u001b[0;36mwrapper\u001b[1;34m(*args, **kwargs)\u001b[0m\n\u001b[0;32m    992\u001b[0m           \u001b[1;32mexcept\u001b[0m \u001b[0mException\u001b[0m \u001b[1;32mas\u001b[0m \u001b[0me\u001b[0m\u001b[1;33m:\u001b[0m  \u001b[1;31m# pylint:disable=broad-except\u001b[0m\u001b[1;33m\u001b[0m\u001b[1;33m\u001b[0m\u001b[0m\n\u001b[0;32m    993\u001b[0m             \u001b[1;32mif\u001b[0m \u001b[0mhasattr\u001b[0m\u001b[1;33m(\u001b[0m\u001b[0me\u001b[0m\u001b[1;33m,\u001b[0m \u001b[1;34m\"ag_error_metadata\"\u001b[0m\u001b[1;33m)\u001b[0m\u001b[1;33m:\u001b[0m\u001b[1;33m\u001b[0m\u001b[1;33m\u001b[0m\u001b[0m\n\u001b[1;32m--> 994\u001b[1;33m               \u001b[1;32mraise\u001b[0m \u001b[0me\u001b[0m\u001b[1;33m.\u001b[0m\u001b[0mag_error_metadata\u001b[0m\u001b[1;33m.\u001b[0m\u001b[0mto_exception\u001b[0m\u001b[1;33m(\u001b[0m\u001b[0me\u001b[0m\u001b[1;33m)\u001b[0m\u001b[1;33m\u001b[0m\u001b[1;33m\u001b[0m\u001b[0m\n\u001b[0m\u001b[0;32m    995\u001b[0m             \u001b[1;32melse\u001b[0m\u001b[1;33m:\u001b[0m\u001b[1;33m\u001b[0m\u001b[1;33m\u001b[0m\u001b[0m\n\u001b[0;32m    996\u001b[0m               \u001b[1;32mraise\u001b[0m\u001b[1;33m\u001b[0m\u001b[1;33m\u001b[0m\u001b[0m\n",
      "\u001b[1;31mValueError\u001b[0m: in user code:\n\n    C:\\Users\\mmuca\\anaconda3\\envs\\tf2.4\\lib\\site-packages\\keras\\engine\\training.py:1330 test_function  *\n        return step_function(self, iterator)\n    C:\\Users\\mmuca\\anaconda3\\envs\\tf2.4\\lib\\site-packages\\keras\\engine\\training.py:1320 step_function  **\n        outputs = model.distribute_strategy.run(run_step, args=(data,))\n    C:\\Users\\mmuca\\anaconda3\\envs\\tf2.4\\lib\\site-packages\\tensorflow\\python\\distribute\\distribute_lib.py:1286 run\n        return self._extended.call_for_each_replica(fn, args=args, kwargs=kwargs)\n    C:\\Users\\mmuca\\anaconda3\\envs\\tf2.4\\lib\\site-packages\\tensorflow\\python\\distribute\\distribute_lib.py:2849 call_for_each_replica\n        return self._call_for_each_replica(fn, args, kwargs)\n    C:\\Users\\mmuca\\anaconda3\\envs\\tf2.4\\lib\\site-packages\\tensorflow\\python\\distribute\\distribute_lib.py:3632 _call_for_each_replica\n        return fn(*args, **kwargs)\n    C:\\Users\\mmuca\\anaconda3\\envs\\tf2.4\\lib\\site-packages\\keras\\engine\\training.py:1313 run_step  **\n        outputs = model.test_step(data)\n    C:\\Users\\mmuca\\anaconda3\\envs\\tf2.4\\lib\\site-packages\\keras\\engine\\training.py:1267 test_step\n        y_pred = self(x, training=False)\n    C:\\Users\\mmuca\\anaconda3\\envs\\tf2.4\\lib\\site-packages\\keras\\engine\\base_layer.py:1037 __call__\n        outputs = call_fn(inputs, *args, **kwargs)\n    C:\\Users\\mmuca\\anaconda3\\envs\\tf2.4\\lib\\site-packages\\keras\\engine\\sequential.py:369 call\n        return super(Sequential, self).call(inputs, training=training, mask=mask)\n    C:\\Users\\mmuca\\anaconda3\\envs\\tf2.4\\lib\\site-packages\\keras\\engine\\functional.py:414 call\n        return self._run_internal_graph(\n    C:\\Users\\mmuca\\anaconda3\\envs\\tf2.4\\lib\\site-packages\\keras\\engine\\functional.py:550 _run_internal_graph\n        outputs = node.layer(*args, **kwargs)\n    C:\\Users\\mmuca\\anaconda3\\envs\\tf2.4\\lib\\site-packages\\keras\\engine\\base_layer.py:1020 __call__\n        input_spec.assert_input_compatibility(self.input_spec, inputs, self.name)\n    C:\\Users\\mmuca\\anaconda3\\envs\\tf2.4\\lib\\site-packages\\keras\\engine\\input_spec.py:214 assert_input_compatibility\n        raise ValueError('Input ' + str(input_index) + ' of layer ' +\n\n    ValueError: Input 0 of layer batch_normalization is incompatible with the layer: expected ndim=4, found ndim=5. Full shape received: (32, 32, 55, 55, 96)\n"
     ]
    }
   ],
   "source": [
    "model.evaluate(test_ds)"
   ]
  },
  {
   "cell_type": "code",
   "execution_count": null,
   "id": "945a703a-f322-4715-8ac8-2d3e9c3db8f1",
   "metadata": {},
   "outputs": [],
   "source": []
  }
 ],
 "metadata": {
  "kernelspec": {
   "display_name": "Python 3 (ipykernel)",
   "language": "python",
   "name": "python3"
  },
  "language_info": {
   "codemirror_mode": {
    "name": "ipython",
    "version": 3
   },
   "file_extension": ".py",
   "mimetype": "text/x-python",
   "name": "python",
   "nbconvert_exporter": "python",
   "pygments_lexer": "ipython3",
   "version": "3.8.11"
  }
 },
 "nbformat": 4,
 "nbformat_minor": 5
}
